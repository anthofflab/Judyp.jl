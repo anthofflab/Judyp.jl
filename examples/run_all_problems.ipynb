{
 "cells": [
  {
   "cell_type": "code",
   "execution_count": 1,
   "metadata": {},
   "outputs": [],
   "source": [
    "using Judyp, Plots"
   ]
  },
  {
   "cell_type": "markdown",
   "metadata": {},
   "source": [
    "## Problem 1"
   ]
  },
  {
   "cell_type": "code",
   "execution_count": 2,
   "metadata": {},
   "outputs": [
    {
     "data": {
      "text/plain": [
       "getproblem1 (generic function with 2 methods)"
      ]
     },
     "execution_count": 2,
     "metadata": {},
     "output_type": "execute_result"
    }
   ],
   "source": [
    "include(\"problem1.jl\")"
   ]
  },
  {
   "cell_type": "code",
   "execution_count": 3,
   "metadata": {},
   "outputs": [
    {
     "data": {
      "text/plain": [
       "Dynamic programming problem with\n",
       "  2 state variables\n",
       "    State 1: 10 nodes over [1.0, 100.0]\n",
       "    State 2: 10 nodes over [1.0, 100.0]\n",
       "  2 choice variables\n",
       "    Choice 1: bounds [0.0, 1.0] with initial value 0.5\n",
       "    Choice 2: bounds [0.0, 1.0] with initial value 0.5\n",
       "  0 constraints\n",
       "  0 uncertain parameters\n"
      ]
     },
     "execution_count": 3,
     "metadata": {},
     "output_type": "execute_result"
    }
   ],
   "source": [
    "p1 = getproblem1()"
   ]
  },
  {
   "cell_type": "code",
   "execution_count": 4,
   "metadata": {},
   "outputs": [
    {
     "name": "stdout",
     "output_type": "stream",
     "text": [
      "\n",
      "******************************************************************************\n",
      "This program contains Ipopt, a library for large-scale nonlinear optimization.\n",
      " Ipopt is released as open source code under the Eclipse Public License (EPL).\n",
      "         For more information visit http://projects.coin-or.org/Ipopt\n",
      "******************************************************************************\n",
      "\n",
      "Function iteration converged after 366 iterations with max. coefficient difference of 0.0009931651847807643\n"
     ]
    },
    {
     "data": {
      "text/plain": [
       "Dynamic programming solution"
      ]
     },
     "execution_count": 4,
     "metadata": {},
     "output_type": "execute_result"
    }
   ],
   "source": [
    "res1 = solve(p1)"
   ]
  },
  {
   "cell_type": "code",
   "execution_count": 5,
   "metadata": {},
   "outputs": [],
   "source": [
    "simres1 = simulate(res1, 50);"
   ]
  },
  {
   "cell_type": "code",
   "execution_count": 6,
   "metadata": {},
   "outputs": [
    {
     "data": {
      "image/svg+xml": [
       "<?xml version=\"1.0\" encoding=\"utf-8\"?>\n",
       "<svg xmlns=\"http://www.w3.org/2000/svg\" xmlns:xlink=\"http://www.w3.org/1999/xlink\" width=\"600\" height=\"400\" viewBox=\"0 0 2400 1600\">\n",
       "<defs>\n",
       "  <clipPath id=\"clip0600\">\n",
       "    <rect x=\"0\" y=\"0\" width=\"2000\" height=\"2000\"/>\n",
       "  </clipPath>\n",
       "</defs>\n",
       "<defs>\n",
       "  <clipPath id=\"clip0601\">\n",
       "    <rect x=\"0\" y=\"0\" width=\"2400\" height=\"1600\"/>\n",
       "  </clipPath>\n",
       "</defs>\n",
       "<polygon clip-path=\"url(#clip0601)\" points=\"\n",
       "0,1600 2400,1600 2400,0 0,0 \n",
       "  \" fill=\"#ffffff\" fill-rule=\"evenodd\" fill-opacity=\"1\"/>\n",
       "<defs>\n",
       "  <clipPath id=\"clip0602\">\n",
       "    <rect x=\"480\" y=\"0\" width=\"1681\" height=\"1600\"/>\n",
       "  </clipPath>\n",
       "</defs>\n",
       "<polygon clip-path=\"url(#clip0601)\" points=\"\n",
       "148.013,1503.47 2321.26,1503.47 2321.26,47.2441 148.013,47.2441 \n",
       "  \" fill=\"#ffffff\" fill-rule=\"evenodd\" fill-opacity=\"1\"/>\n",
       "<defs>\n",
       "  <clipPath id=\"clip0603\">\n",
       "    <rect x=\"148\" y=\"47\" width=\"2174\" height=\"1457\"/>\n",
       "  </clipPath>\n",
       "</defs>\n",
       "<polyline clip-path=\"url(#clip0603)\" style=\"stroke:#000000; stroke-width:2; stroke-opacity:0.1; fill:none\" points=\"\n",
       "  167.678,1503.47 167.678,47.2441 \n",
       "  \"/>\n",
       "<polyline clip-path=\"url(#clip0603)\" style=\"stroke:#000000; stroke-width:2; stroke-opacity:0.1; fill:none\" points=\"\n",
       "  586.093,1503.47 586.093,47.2441 \n",
       "  \"/>\n",
       "<polyline clip-path=\"url(#clip0603)\" style=\"stroke:#000000; stroke-width:2; stroke-opacity:0.1; fill:none\" points=\"\n",
       "  1004.51,1503.47 1004.51,47.2441 \n",
       "  \"/>\n",
       "<polyline clip-path=\"url(#clip0603)\" style=\"stroke:#000000; stroke-width:2; stroke-opacity:0.1; fill:none\" points=\"\n",
       "  1422.92,1503.47 1422.92,47.2441 \n",
       "  \"/>\n",
       "<polyline clip-path=\"url(#clip0603)\" style=\"stroke:#000000; stroke-width:2; stroke-opacity:0.1; fill:none\" points=\"\n",
       "  1841.34,1503.47 1841.34,47.2441 \n",
       "  \"/>\n",
       "<polyline clip-path=\"url(#clip0603)\" style=\"stroke:#000000; stroke-width:2; stroke-opacity:0.1; fill:none\" points=\"\n",
       "  2259.75,1503.47 2259.75,47.2441 \n",
       "  \"/>\n",
       "<polyline clip-path=\"url(#clip0603)\" style=\"stroke:#000000; stroke-width:2; stroke-opacity:0.1; fill:none\" points=\"\n",
       "  148.013,1462.26 2321.26,1462.26 \n",
       "  \"/>\n",
       "<polyline clip-path=\"url(#clip0603)\" style=\"stroke:#000000; stroke-width:2; stroke-opacity:0.1; fill:none\" points=\"\n",
       "  148.013,1175.37 2321.26,1175.37 \n",
       "  \"/>\n",
       "<polyline clip-path=\"url(#clip0603)\" style=\"stroke:#000000; stroke-width:2; stroke-opacity:0.1; fill:none\" points=\"\n",
       "  148.013,888.477 2321.26,888.477 \n",
       "  \"/>\n",
       "<polyline clip-path=\"url(#clip0603)\" style=\"stroke:#000000; stroke-width:2; stroke-opacity:0.1; fill:none\" points=\"\n",
       "  148.013,601.585 2321.26,601.585 \n",
       "  \"/>\n",
       "<polyline clip-path=\"url(#clip0603)\" style=\"stroke:#000000; stroke-width:2; stroke-opacity:0.1; fill:none\" points=\"\n",
       "  148.013,314.694 2321.26,314.694 \n",
       "  \"/>\n",
       "<polyline clip-path=\"url(#clip0601)\" style=\"stroke:#000000; stroke-width:4; stroke-opacity:1; fill:none\" points=\"\n",
       "  148.013,1503.47 2321.26,1503.47 \n",
       "  \"/>\n",
       "<polyline clip-path=\"url(#clip0601)\" style=\"stroke:#000000; stroke-width:4; stroke-opacity:1; fill:none\" points=\"\n",
       "  148.013,1503.47 148.013,47.2441 \n",
       "  \"/>\n",
       "<polyline clip-path=\"url(#clip0601)\" style=\"stroke:#000000; stroke-width:4; stroke-opacity:1; fill:none\" points=\"\n",
       "  167.678,1503.47 167.678,1481.63 \n",
       "  \"/>\n",
       "<polyline clip-path=\"url(#clip0601)\" style=\"stroke:#000000; stroke-width:4; stroke-opacity:1; fill:none\" points=\"\n",
       "  586.093,1503.47 586.093,1481.63 \n",
       "  \"/>\n",
       "<polyline clip-path=\"url(#clip0601)\" style=\"stroke:#000000; stroke-width:4; stroke-opacity:1; fill:none\" points=\"\n",
       "  1004.51,1503.47 1004.51,1481.63 \n",
       "  \"/>\n",
       "<polyline clip-path=\"url(#clip0601)\" style=\"stroke:#000000; stroke-width:4; stroke-opacity:1; fill:none\" points=\"\n",
       "  1422.92,1503.47 1422.92,1481.63 \n",
       "  \"/>\n",
       "<polyline clip-path=\"url(#clip0601)\" style=\"stroke:#000000; stroke-width:4; stroke-opacity:1; fill:none\" points=\"\n",
       "  1841.34,1503.47 1841.34,1481.63 \n",
       "  \"/>\n",
       "<polyline clip-path=\"url(#clip0601)\" style=\"stroke:#000000; stroke-width:4; stroke-opacity:1; fill:none\" points=\"\n",
       "  2259.75,1503.47 2259.75,1481.63 \n",
       "  \"/>\n",
       "<polyline clip-path=\"url(#clip0601)\" style=\"stroke:#000000; stroke-width:4; stroke-opacity:1; fill:none\" points=\"\n",
       "  148.013,1462.26 180.612,1462.26 \n",
       "  \"/>\n",
       "<polyline clip-path=\"url(#clip0601)\" style=\"stroke:#000000; stroke-width:4; stroke-opacity:1; fill:none\" points=\"\n",
       "  148.013,1175.37 180.612,1175.37 \n",
       "  \"/>\n",
       "<polyline clip-path=\"url(#clip0601)\" style=\"stroke:#000000; stroke-width:4; stroke-opacity:1; fill:none\" points=\"\n",
       "  148.013,888.477 180.612,888.477 \n",
       "  \"/>\n",
       "<polyline clip-path=\"url(#clip0601)\" style=\"stroke:#000000; stroke-width:4; stroke-opacity:1; fill:none\" points=\"\n",
       "  148.013,601.585 180.612,601.585 \n",
       "  \"/>\n",
       "<polyline clip-path=\"url(#clip0601)\" style=\"stroke:#000000; stroke-width:4; stroke-opacity:1; fill:none\" points=\"\n",
       "  148.013,314.694 180.612,314.694 \n",
       "  \"/>\n",
       "<g clip-path=\"url(#clip0601)\">\n",
       "<text style=\"fill:#000000; fill-opacity:1; font-family:Arial,Helvetica Neue,Helvetica,sans-serif; font-size:48px; text-anchor:middle;\" transform=\"rotate(0, 167.678, 1557.47)\" x=\"167.678\" y=\"1557.47\">0</text>\n",
       "</g>\n",
       "<g clip-path=\"url(#clip0601)\">\n",
       "<text style=\"fill:#000000; fill-opacity:1; font-family:Arial,Helvetica Neue,Helvetica,sans-serif; font-size:48px; text-anchor:middle;\" transform=\"rotate(0, 586.093, 1557.47)\" x=\"586.093\" y=\"1557.47\">10</text>\n",
       "</g>\n",
       "<g clip-path=\"url(#clip0601)\">\n",
       "<text style=\"fill:#000000; fill-opacity:1; font-family:Arial,Helvetica Neue,Helvetica,sans-serif; font-size:48px; text-anchor:middle;\" transform=\"rotate(0, 1004.51, 1557.47)\" x=\"1004.51\" y=\"1557.47\">20</text>\n",
       "</g>\n",
       "<g clip-path=\"url(#clip0601)\">\n",
       "<text style=\"fill:#000000; fill-opacity:1; font-family:Arial,Helvetica Neue,Helvetica,sans-serif; font-size:48px; text-anchor:middle;\" transform=\"rotate(0, 1422.92, 1557.47)\" x=\"1422.92\" y=\"1557.47\">30</text>\n",
       "</g>\n",
       "<g clip-path=\"url(#clip0601)\">\n",
       "<text style=\"fill:#000000; fill-opacity:1; font-family:Arial,Helvetica Neue,Helvetica,sans-serif; font-size:48px; text-anchor:middle;\" transform=\"rotate(0, 1841.34, 1557.47)\" x=\"1841.34\" y=\"1557.47\">40</text>\n",
       "</g>\n",
       "<g clip-path=\"url(#clip0601)\">\n",
       "<text style=\"fill:#000000; fill-opacity:1; font-family:Arial,Helvetica Neue,Helvetica,sans-serif; font-size:48px; text-anchor:middle;\" transform=\"rotate(0, 2259.75, 1557.47)\" x=\"2259.75\" y=\"1557.47\">50</text>\n",
       "</g>\n",
       "<g clip-path=\"url(#clip0601)\">\n",
       "<text style=\"fill:#000000; fill-opacity:1; font-family:Arial,Helvetica Neue,Helvetica,sans-serif; font-size:48px; text-anchor:end;\" transform=\"rotate(0, 124.013, 1479.76)\" x=\"124.013\" y=\"1479.76\">10</text>\n",
       "</g>\n",
       "<g clip-path=\"url(#clip0601)\">\n",
       "<text style=\"fill:#000000; fill-opacity:1; font-family:Arial,Helvetica Neue,Helvetica,sans-serif; font-size:48px; text-anchor:end;\" transform=\"rotate(0, 124.013, 1192.87)\" x=\"124.013\" y=\"1192.87\">15</text>\n",
       "</g>\n",
       "<g clip-path=\"url(#clip0601)\">\n",
       "<text style=\"fill:#000000; fill-opacity:1; font-family:Arial,Helvetica Neue,Helvetica,sans-serif; font-size:48px; text-anchor:end;\" transform=\"rotate(0, 124.013, 905.977)\" x=\"124.013\" y=\"905.977\">20</text>\n",
       "</g>\n",
       "<g clip-path=\"url(#clip0601)\">\n",
       "<text style=\"fill:#000000; fill-opacity:1; font-family:Arial,Helvetica Neue,Helvetica,sans-serif; font-size:48px; text-anchor:end;\" transform=\"rotate(0, 124.013, 619.085)\" x=\"124.013\" y=\"619.085\">25</text>\n",
       "</g>\n",
       "<g clip-path=\"url(#clip0601)\">\n",
       "<text style=\"fill:#000000; fill-opacity:1; font-family:Arial,Helvetica Neue,Helvetica,sans-serif; font-size:48px; text-anchor:end;\" transform=\"rotate(0, 124.013, 332.194)\" x=\"124.013\" y=\"332.194\">30</text>\n",
       "</g>\n",
       "<polyline clip-path=\"url(#clip0603)\" style=\"stroke:#009af9; stroke-width:4; stroke-opacity:1; fill:none\" points=\"\n",
       "  209.52,1462.26 251.361,1394.78 293.203,1329.69 335.044,1263.77 376.886,1194.24 418.727,1118.96 460.569,1036.83 502.41,948.166 544.252,854.783 586.093,759.589 \n",
       "  627.935,665.971 669.776,577.133 711.618,495.62 753.459,423.07 795.301,360.199 837.142,306.945 878.984,262.685 920.825,226.466 962.667,197.195 1004.51,173.771 \n",
       "  1046.35,155.17 1088.19,140.489 1130.03,128.957 1171.87,119.93 1213.72,112.885 1255.56,107.398 1297.4,103.132 1339.24,99.82 1381.08,97.2508 1422.92,95.2594 \n",
       "  1464.76,93.7169 1506.61,92.5226 1548.45,91.5913 1590.29,90.871 1632.13,90.3141 1673.97,89.8835 1715.81,89.5507 1757.65,89.2935 1799.5,89.0946 1841.34,88.941 \n",
       "  1883.18,88.8222 1925.02,88.7305 1966.86,88.6596 2008.7,88.6048 2050.55,88.5624 2092.39,88.5297 2134.23,88.5045 2176.07,88.4849 2217.91,88.4698 2259.75,88.4582 \n",
       "  \n",
       "  \"/>\n",
       "<polygon clip-path=\"url(#clip0601)\" points=\"\n",
       "1958.43,251.724 2249.26,251.724 2249.26,130.764 1958.43,130.764 \n",
       "  \" fill=\"#ffffff\" fill-rule=\"evenodd\" fill-opacity=\"1\"/>\n",
       "<polyline clip-path=\"url(#clip0601)\" style=\"stroke:#000000; stroke-width:4; stroke-opacity:1; fill:none\" points=\"\n",
       "  1958.43,251.724 2249.26,251.724 2249.26,130.764 1958.43,130.764 1958.43,251.724 \n",
       "  \"/>\n",
       "<polyline clip-path=\"url(#clip0601)\" style=\"stroke:#009af9; stroke-width:4; stroke-opacity:1; fill:none\" points=\"\n",
       "  1982.43,191.244 2126.43,191.244 \n",
       "  \"/>\n",
       "<g clip-path=\"url(#clip0601)\">\n",
       "<text style=\"fill:#000000; fill-opacity:1; font-family:Arial,Helvetica Neue,Helvetica,sans-serif; font-size:48px; text-anchor:start;\" transform=\"rotate(0, 2150.43, 208.744)\" x=\"2150.43\" y=\"208.744\">y1</text>\n",
       "</g>\n",
       "</svg>\n"
      ]
     },
     "execution_count": 6,
     "metadata": {},
     "output_type": "execute_result"
    }
   ],
   "source": [
    "plot(simres1.state_vars[1][1,:])"
   ]
  },
  {
   "cell_type": "code",
   "execution_count": 7,
   "metadata": {},
   "outputs": [
    {
     "data": {
      "image/svg+xml": [
       "<?xml version=\"1.0\" encoding=\"utf-8\"?>\n",
       "<svg xmlns=\"http://www.w3.org/2000/svg\" xmlns:xlink=\"http://www.w3.org/1999/xlink\" width=\"600\" height=\"400\" viewBox=\"0 0 2400 1600\">\n",
       "<defs>\n",
       "  <clipPath id=\"clip0800\">\n",
       "    <rect x=\"0\" y=\"0\" width=\"2000\" height=\"2000\"/>\n",
       "  </clipPath>\n",
       "</defs>\n",
       "<defs>\n",
       "  <clipPath id=\"clip0801\">\n",
       "    <rect x=\"0\" y=\"0\" width=\"2400\" height=\"1600\"/>\n",
       "  </clipPath>\n",
       "</defs>\n",
       "<polygon clip-path=\"url(#clip0801)\" points=\"\n",
       "0,1600 2400,1600 2400,0 0,0 \n",
       "  \" fill=\"#ffffff\" fill-rule=\"evenodd\" fill-opacity=\"1\"/>\n",
       "<defs>\n",
       "  <clipPath id=\"clip0802\">\n",
       "    <rect x=\"480\" y=\"0\" width=\"1681\" height=\"1600\"/>\n",
       "  </clipPath>\n",
       "</defs>\n",
       "<polygon clip-path=\"url(#clip0801)\" points=\"\n",
       "214.919,1503.47 2321.26,1503.47 2321.26,47.2441 214.919,47.2441 \n",
       "  \" fill=\"#ffffff\" fill-rule=\"evenodd\" fill-opacity=\"1\"/>\n",
       "<defs>\n",
       "  <clipPath id=\"clip0803\">\n",
       "    <rect x=\"214\" y=\"47\" width=\"2107\" height=\"1457\"/>\n",
       "  </clipPath>\n",
       "</defs>\n",
       "<polyline clip-path=\"url(#clip0803)\" style=\"stroke:#000000; stroke-width:2; stroke-opacity:0.1; fill:none\" points=\"\n",
       "  233.979,1503.47 233.979,47.2441 \n",
       "  \"/>\n",
       "<polyline clip-path=\"url(#clip0803)\" style=\"stroke:#000000; stroke-width:2; stroke-opacity:0.1; fill:none\" points=\"\n",
       "  639.512,1503.47 639.512,47.2441 \n",
       "  \"/>\n",
       "<polyline clip-path=\"url(#clip0803)\" style=\"stroke:#000000; stroke-width:2; stroke-opacity:0.1; fill:none\" points=\"\n",
       "  1045.05,1503.47 1045.05,47.2441 \n",
       "  \"/>\n",
       "<polyline clip-path=\"url(#clip0803)\" style=\"stroke:#000000; stroke-width:2; stroke-opacity:0.1; fill:none\" points=\"\n",
       "  1450.58,1503.47 1450.58,47.2441 \n",
       "  \"/>\n",
       "<polyline clip-path=\"url(#clip0803)\" style=\"stroke:#000000; stroke-width:2; stroke-opacity:0.1; fill:none\" points=\"\n",
       "  1856.11,1503.47 1856.11,47.2441 \n",
       "  \"/>\n",
       "<polyline clip-path=\"url(#clip0803)\" style=\"stroke:#000000; stroke-width:2; stroke-opacity:0.1; fill:none\" points=\"\n",
       "  2261.65,1503.47 2261.65,47.2441 \n",
       "  \"/>\n",
       "<polyline clip-path=\"url(#clip0803)\" style=\"stroke:#000000; stroke-width:2; stroke-opacity:0.1; fill:none\" points=\"\n",
       "  214.919,1204.26 2321.26,1204.26 \n",
       "  \"/>\n",
       "<polyline clip-path=\"url(#clip0803)\" style=\"stroke:#000000; stroke-width:2; stroke-opacity:0.1; fill:none\" points=\"\n",
       "  214.919,892.3 2321.26,892.3 \n",
       "  \"/>\n",
       "<polyline clip-path=\"url(#clip0803)\" style=\"stroke:#000000; stroke-width:2; stroke-opacity:0.1; fill:none\" points=\"\n",
       "  214.919,580.34 2321.26,580.34 \n",
       "  \"/>\n",
       "<polyline clip-path=\"url(#clip0803)\" style=\"stroke:#000000; stroke-width:2; stroke-opacity:0.1; fill:none\" points=\"\n",
       "  214.919,268.381 2321.26,268.381 \n",
       "  \"/>\n",
       "<polyline clip-path=\"url(#clip0801)\" style=\"stroke:#000000; stroke-width:4; stroke-opacity:1; fill:none\" points=\"\n",
       "  214.919,1503.47 2321.26,1503.47 \n",
       "  \"/>\n",
       "<polyline clip-path=\"url(#clip0801)\" style=\"stroke:#000000; stroke-width:4; stroke-opacity:1; fill:none\" points=\"\n",
       "  214.919,1503.47 214.919,47.2441 \n",
       "  \"/>\n",
       "<polyline clip-path=\"url(#clip0801)\" style=\"stroke:#000000; stroke-width:4; stroke-opacity:1; fill:none\" points=\"\n",
       "  233.979,1503.47 233.979,1481.63 \n",
       "  \"/>\n",
       "<polyline clip-path=\"url(#clip0801)\" style=\"stroke:#000000; stroke-width:4; stroke-opacity:1; fill:none\" points=\"\n",
       "  639.512,1503.47 639.512,1481.63 \n",
       "  \"/>\n",
       "<polyline clip-path=\"url(#clip0801)\" style=\"stroke:#000000; stroke-width:4; stroke-opacity:1; fill:none\" points=\"\n",
       "  1045.05,1503.47 1045.05,1481.63 \n",
       "  \"/>\n",
       "<polyline clip-path=\"url(#clip0801)\" style=\"stroke:#000000; stroke-width:4; stroke-opacity:1; fill:none\" points=\"\n",
       "  1450.58,1503.47 1450.58,1481.63 \n",
       "  \"/>\n",
       "<polyline clip-path=\"url(#clip0801)\" style=\"stroke:#000000; stroke-width:4; stroke-opacity:1; fill:none\" points=\"\n",
       "  1856.11,1503.47 1856.11,1481.63 \n",
       "  \"/>\n",
       "<polyline clip-path=\"url(#clip0801)\" style=\"stroke:#000000; stroke-width:4; stroke-opacity:1; fill:none\" points=\"\n",
       "  2261.65,1503.47 2261.65,1481.63 \n",
       "  \"/>\n",
       "<polyline clip-path=\"url(#clip0801)\" style=\"stroke:#000000; stroke-width:4; stroke-opacity:1; fill:none\" points=\"\n",
       "  214.919,1204.26 246.514,1204.26 \n",
       "  \"/>\n",
       "<polyline clip-path=\"url(#clip0801)\" style=\"stroke:#000000; stroke-width:4; stroke-opacity:1; fill:none\" points=\"\n",
       "  214.919,892.3 246.514,892.3 \n",
       "  \"/>\n",
       "<polyline clip-path=\"url(#clip0801)\" style=\"stroke:#000000; stroke-width:4; stroke-opacity:1; fill:none\" points=\"\n",
       "  214.919,580.34 246.514,580.34 \n",
       "  \"/>\n",
       "<polyline clip-path=\"url(#clip0801)\" style=\"stroke:#000000; stroke-width:4; stroke-opacity:1; fill:none\" points=\"\n",
       "  214.919,268.381 246.514,268.381 \n",
       "  \"/>\n",
       "<g clip-path=\"url(#clip0801)\">\n",
       "<text style=\"fill:#000000; fill-opacity:1; font-family:Arial,Helvetica Neue,Helvetica,sans-serif; font-size:48px; text-anchor:middle;\" transform=\"rotate(0, 233.979, 1557.47)\" x=\"233.979\" y=\"1557.47\">0</text>\n",
       "</g>\n",
       "<g clip-path=\"url(#clip0801)\">\n",
       "<text style=\"fill:#000000; fill-opacity:1; font-family:Arial,Helvetica Neue,Helvetica,sans-serif; font-size:48px; text-anchor:middle;\" transform=\"rotate(0, 639.512, 1557.47)\" x=\"639.512\" y=\"1557.47\">10</text>\n",
       "</g>\n",
       "<g clip-path=\"url(#clip0801)\">\n",
       "<text style=\"fill:#000000; fill-opacity:1; font-family:Arial,Helvetica Neue,Helvetica,sans-serif; font-size:48px; text-anchor:middle;\" transform=\"rotate(0, 1045.05, 1557.47)\" x=\"1045.05\" y=\"1557.47\">20</text>\n",
       "</g>\n",
       "<g clip-path=\"url(#clip0801)\">\n",
       "<text style=\"fill:#000000; fill-opacity:1; font-family:Arial,Helvetica Neue,Helvetica,sans-serif; font-size:48px; text-anchor:middle;\" transform=\"rotate(0, 1450.58, 1557.47)\" x=\"1450.58\" y=\"1557.47\">30</text>\n",
       "</g>\n",
       "<g clip-path=\"url(#clip0801)\">\n",
       "<text style=\"fill:#000000; fill-opacity:1; font-family:Arial,Helvetica Neue,Helvetica,sans-serif; font-size:48px; text-anchor:middle;\" transform=\"rotate(0, 1856.11, 1557.47)\" x=\"1856.11\" y=\"1557.47\">40</text>\n",
       "</g>\n",
       "<g clip-path=\"url(#clip0801)\">\n",
       "<text style=\"fill:#000000; fill-opacity:1; font-family:Arial,Helvetica Neue,Helvetica,sans-serif; font-size:48px; text-anchor:middle;\" transform=\"rotate(0, 2261.65, 1557.47)\" x=\"2261.65\" y=\"1557.47\">50</text>\n",
       "</g>\n",
       "<g clip-path=\"url(#clip0801)\">\n",
       "<text style=\"fill:#000000; fill-opacity:1; font-family:Arial,Helvetica Neue,Helvetica,sans-serif; font-size:48px; text-anchor:end;\" transform=\"rotate(0, 190.919, 1221.76)\" x=\"190.919\" y=\"1221.76\">0.300</text>\n",
       "</g>\n",
       "<g clip-path=\"url(#clip0801)\">\n",
       "<text style=\"fill:#000000; fill-opacity:1; font-family:Arial,Helvetica Neue,Helvetica,sans-serif; font-size:48px; text-anchor:end;\" transform=\"rotate(0, 190.919, 909.8)\" x=\"190.919\" y=\"909.8\">0.325</text>\n",
       "</g>\n",
       "<g clip-path=\"url(#clip0801)\">\n",
       "<text style=\"fill:#000000; fill-opacity:1; font-family:Arial,Helvetica Neue,Helvetica,sans-serif; font-size:48px; text-anchor:end;\" transform=\"rotate(0, 190.919, 597.84)\" x=\"190.919\" y=\"597.84\">0.350</text>\n",
       "</g>\n",
       "<g clip-path=\"url(#clip0801)\">\n",
       "<text style=\"fill:#000000; fill-opacity:1; font-family:Arial,Helvetica Neue,Helvetica,sans-serif; font-size:48px; text-anchor:end;\" transform=\"rotate(0, 190.919, 285.881)\" x=\"190.919\" y=\"285.881\">0.375</text>\n",
       "</g>\n",
       "<polyline clip-path=\"url(#clip0803)\" style=\"stroke:#009af9; stroke-width:4; stroke-opacity:1; fill:none\" points=\"\n",
       "  274.532,1462.26 315.085,1459.02 355.639,1366.35 396.192,1200.34 436.746,979.816 477.299,731.793 517.852,490.529 558.406,289.656 598.959,152.722 639.512,88.4582 \n",
       "  680.066,92.0594 720.619,149.821 761.172,244.291 801.726,358.419 842.279,478.146 882.832,593.462 923.386,698.296 963.939,789.763 1004.49,867.204 1045.05,931.329 \n",
       "  1085.6,983.553 1126.15,1025.56 1166.71,1059.03 1207.26,1085.5 1247.81,1106.34 1288.37,1122.66 1328.92,1135.42 1369.47,1145.36 1410.03,1153.09 1450.58,1159.09 \n",
       "  1491.13,1163.75 1531.69,1167.23 1572.24,1170.05 1612.79,1172.24 1653.35,1173.93 1693.9,1175.24 1734.45,1176.25 1775.01,1177.03 1815.56,1177.64 1856.11,1178.11 \n",
       "  1896.67,1178.47 1937.22,1178.75 1977.77,1178.96 2018.33,1179.13 2058.88,1179.26 2099.43,1179.36 2139.99,1179.43 2180.54,1179.49 2221.09,1179.54 2261.65,1179.58 \n",
       "  \n",
       "  \"/>\n",
       "<polygon clip-path=\"url(#clip0801)\" points=\"\n",
       "1958.43,251.724 2249.26,251.724 2249.26,130.764 1958.43,130.764 \n",
       "  \" fill=\"#ffffff\" fill-rule=\"evenodd\" fill-opacity=\"1\"/>\n",
       "<polyline clip-path=\"url(#clip0801)\" style=\"stroke:#000000; stroke-width:4; stroke-opacity:1; fill:none\" points=\"\n",
       "  1958.43,251.724 2249.26,251.724 2249.26,130.764 1958.43,130.764 1958.43,251.724 \n",
       "  \"/>\n",
       "<polyline clip-path=\"url(#clip0801)\" style=\"stroke:#009af9; stroke-width:4; stroke-opacity:1; fill:none\" points=\"\n",
       "  1982.43,191.244 2126.43,191.244 \n",
       "  \"/>\n",
       "<g clip-path=\"url(#clip0801)\">\n",
       "<text style=\"fill:#000000; fill-opacity:1; font-family:Arial,Helvetica Neue,Helvetica,sans-serif; font-size:48px; text-anchor:start;\" transform=\"rotate(0, 2150.43, 208.744)\" x=\"2150.43\" y=\"208.744\">y1</text>\n",
       "</g>\n",
       "</svg>\n"
      ]
     },
     "execution_count": 7,
     "metadata": {},
     "output_type": "execute_result"
    }
   ],
   "source": [
    "plot(simres1.choice_vars[1][1,:])"
   ]
  },
  {
   "cell_type": "markdown",
   "metadata": {},
   "source": [
    "## Problem 2"
   ]
  },
  {
   "cell_type": "code",
   "execution_count": 8,
   "metadata": {},
   "outputs": [
    {
     "data": {
      "text/plain": [
       "getproblem2 (generic function with 2 methods)"
      ]
     },
     "execution_count": 8,
     "metadata": {},
     "output_type": "execute_result"
    }
   ],
   "source": [
    "include(\"problem2.jl\")"
   ]
  },
  {
   "cell_type": "code",
   "execution_count": 9,
   "metadata": {},
   "outputs": [
    {
     "data": {
      "text/plain": [
       "Dynamic programming problem with\n",
       "  2 state variables\n",
       "    State 1: 10 nodes over [1.0, 100.0]\n",
       "    State 2: 10 nodes over [1.0, 100.0]\n",
       "  4 choice variables\n",
       "    Choice 1: bounds [0.0, 1.0e11] with initial value 0.1\n",
       "    Choice 2: bounds [0.0, 1.0e11] with initial value 0.1\n",
       "    Choice 3: bounds [0.0, 1.0e11] with initial value 0.1\n",
       "    Choice 4: bounds [0.0, 1.0e11] with initial value 0.1\n",
       "  2 constraints\n",
       "    Constraint 1: bounds [0.0, Inf] \n",
       "    Constraint 2: bounds [0.0, Inf] \n",
       "  0 uncertain parameters\n"
      ]
     },
     "execution_count": 9,
     "metadata": {},
     "output_type": "execute_result"
    }
   ],
   "source": [
    "p2 = getproblem2()"
   ]
  },
  {
   "cell_type": "code",
   "execution_count": 10,
   "metadata": {},
   "outputs": [
    {
     "name": "stdout",
     "output_type": "stream",
     "text": [
      "Function iteration converged after 369 iterations with max. coefficient difference of 0.000991742949906893\n"
     ]
    },
    {
     "data": {
      "text/plain": [
       "Dynamic programming solution"
      ]
     },
     "execution_count": 10,
     "metadata": {},
     "output_type": "execute_result"
    }
   ],
   "source": [
    "res2 = solve(p2)"
   ]
  },
  {
   "cell_type": "code",
   "execution_count": 11,
   "metadata": {},
   "outputs": [],
   "source": [
    "simres2 = simulate(res2, 50);"
   ]
  },
  {
   "cell_type": "code",
   "execution_count": 12,
   "metadata": {},
   "outputs": [
    {
     "data": {
      "image/svg+xml": [
       "<?xml version=\"1.0\" encoding=\"utf-8\"?>\n",
       "<svg xmlns=\"http://www.w3.org/2000/svg\" xmlns:xlink=\"http://www.w3.org/1999/xlink\" width=\"600\" height=\"400\" viewBox=\"0 0 2400 1600\">\n",
       "<defs>\n",
       "  <clipPath id=\"clip1000\">\n",
       "    <rect x=\"0\" y=\"0\" width=\"2000\" height=\"2000\"/>\n",
       "  </clipPath>\n",
       "</defs>\n",
       "<defs>\n",
       "  <clipPath id=\"clip1001\">\n",
       "    <rect x=\"0\" y=\"0\" width=\"2400\" height=\"1600\"/>\n",
       "  </clipPath>\n",
       "</defs>\n",
       "<polygon clip-path=\"url(#clip1001)\" points=\"\n",
       "0,1600 2400,1600 2400,0 0,0 \n",
       "  \" fill=\"#ffffff\" fill-rule=\"evenodd\" fill-opacity=\"1\"/>\n",
       "<defs>\n",
       "  <clipPath id=\"clip1002\">\n",
       "    <rect x=\"480\" y=\"0\" width=\"1681\" height=\"1600\"/>\n",
       "  </clipPath>\n",
       "</defs>\n",
       "<polygon clip-path=\"url(#clip1001)\" points=\"\n",
       "148.013,1503.47 2321.26,1503.47 2321.26,47.2441 148.013,47.2441 \n",
       "  \" fill=\"#ffffff\" fill-rule=\"evenodd\" fill-opacity=\"1\"/>\n",
       "<defs>\n",
       "  <clipPath id=\"clip1003\">\n",
       "    <rect x=\"148\" y=\"47\" width=\"2174\" height=\"1457\"/>\n",
       "  </clipPath>\n",
       "</defs>\n",
       "<polyline clip-path=\"url(#clip1003)\" style=\"stroke:#000000; stroke-width:2; stroke-opacity:0.1; fill:none\" points=\"\n",
       "  167.678,1503.47 167.678,47.2441 \n",
       "  \"/>\n",
       "<polyline clip-path=\"url(#clip1003)\" style=\"stroke:#000000; stroke-width:2; stroke-opacity:0.1; fill:none\" points=\"\n",
       "  586.093,1503.47 586.093,47.2441 \n",
       "  \"/>\n",
       "<polyline clip-path=\"url(#clip1003)\" style=\"stroke:#000000; stroke-width:2; stroke-opacity:0.1; fill:none\" points=\"\n",
       "  1004.51,1503.47 1004.51,47.2441 \n",
       "  \"/>\n",
       "<polyline clip-path=\"url(#clip1003)\" style=\"stroke:#000000; stroke-width:2; stroke-opacity:0.1; fill:none\" points=\"\n",
       "  1422.92,1503.47 1422.92,47.2441 \n",
       "  \"/>\n",
       "<polyline clip-path=\"url(#clip1003)\" style=\"stroke:#000000; stroke-width:2; stroke-opacity:0.1; fill:none\" points=\"\n",
       "  1841.34,1503.47 1841.34,47.2441 \n",
       "  \"/>\n",
       "<polyline clip-path=\"url(#clip1003)\" style=\"stroke:#000000; stroke-width:2; stroke-opacity:0.1; fill:none\" points=\"\n",
       "  2259.75,1503.47 2259.75,47.2441 \n",
       "  \"/>\n",
       "<polyline clip-path=\"url(#clip1003)\" style=\"stroke:#000000; stroke-width:2; stroke-opacity:0.1; fill:none\" points=\"\n",
       "  148.013,1462.26 2321.26,1462.26 \n",
       "  \"/>\n",
       "<polyline clip-path=\"url(#clip1003)\" style=\"stroke:#000000; stroke-width:2; stroke-opacity:0.1; fill:none\" points=\"\n",
       "  148.013,1177.7 2321.26,1177.7 \n",
       "  \"/>\n",
       "<polyline clip-path=\"url(#clip1003)\" style=\"stroke:#000000; stroke-width:2; stroke-opacity:0.1; fill:none\" points=\"\n",
       "  148.013,893.134 2321.26,893.134 \n",
       "  \"/>\n",
       "<polyline clip-path=\"url(#clip1003)\" style=\"stroke:#000000; stroke-width:2; stroke-opacity:0.1; fill:none\" points=\"\n",
       "  148.013,608.571 2321.26,608.571 \n",
       "  \"/>\n",
       "<polyline clip-path=\"url(#clip1003)\" style=\"stroke:#000000; stroke-width:2; stroke-opacity:0.1; fill:none\" points=\"\n",
       "  148.013,324.007 2321.26,324.007 \n",
       "  \"/>\n",
       "<polyline clip-path=\"url(#clip1001)\" style=\"stroke:#000000; stroke-width:4; stroke-opacity:1; fill:none\" points=\"\n",
       "  148.013,1503.47 2321.26,1503.47 \n",
       "  \"/>\n",
       "<polyline clip-path=\"url(#clip1001)\" style=\"stroke:#000000; stroke-width:4; stroke-opacity:1; fill:none\" points=\"\n",
       "  148.013,1503.47 148.013,47.2441 \n",
       "  \"/>\n",
       "<polyline clip-path=\"url(#clip1001)\" style=\"stroke:#000000; stroke-width:4; stroke-opacity:1; fill:none\" points=\"\n",
       "  167.678,1503.47 167.678,1481.63 \n",
       "  \"/>\n",
       "<polyline clip-path=\"url(#clip1001)\" style=\"stroke:#000000; stroke-width:4; stroke-opacity:1; fill:none\" points=\"\n",
       "  586.093,1503.47 586.093,1481.63 \n",
       "  \"/>\n",
       "<polyline clip-path=\"url(#clip1001)\" style=\"stroke:#000000; stroke-width:4; stroke-opacity:1; fill:none\" points=\"\n",
       "  1004.51,1503.47 1004.51,1481.63 \n",
       "  \"/>\n",
       "<polyline clip-path=\"url(#clip1001)\" style=\"stroke:#000000; stroke-width:4; stroke-opacity:1; fill:none\" points=\"\n",
       "  1422.92,1503.47 1422.92,1481.63 \n",
       "  \"/>\n",
       "<polyline clip-path=\"url(#clip1001)\" style=\"stroke:#000000; stroke-width:4; stroke-opacity:1; fill:none\" points=\"\n",
       "  1841.34,1503.47 1841.34,1481.63 \n",
       "  \"/>\n",
       "<polyline clip-path=\"url(#clip1001)\" style=\"stroke:#000000; stroke-width:4; stroke-opacity:1; fill:none\" points=\"\n",
       "  2259.75,1503.47 2259.75,1481.63 \n",
       "  \"/>\n",
       "<polyline clip-path=\"url(#clip1001)\" style=\"stroke:#000000; stroke-width:4; stroke-opacity:1; fill:none\" points=\"\n",
       "  148.013,1462.26 180.612,1462.26 \n",
       "  \"/>\n",
       "<polyline clip-path=\"url(#clip1001)\" style=\"stroke:#000000; stroke-width:4; stroke-opacity:1; fill:none\" points=\"\n",
       "  148.013,1177.7 180.612,1177.7 \n",
       "  \"/>\n",
       "<polyline clip-path=\"url(#clip1001)\" style=\"stroke:#000000; stroke-width:4; stroke-opacity:1; fill:none\" points=\"\n",
       "  148.013,893.134 180.612,893.134 \n",
       "  \"/>\n",
       "<polyline clip-path=\"url(#clip1001)\" style=\"stroke:#000000; stroke-width:4; stroke-opacity:1; fill:none\" points=\"\n",
       "  148.013,608.571 180.612,608.571 \n",
       "  \"/>\n",
       "<polyline clip-path=\"url(#clip1001)\" style=\"stroke:#000000; stroke-width:4; stroke-opacity:1; fill:none\" points=\"\n",
       "  148.013,324.007 180.612,324.007 \n",
       "  \"/>\n",
       "<g clip-path=\"url(#clip1001)\">\n",
       "<text style=\"fill:#000000; fill-opacity:1; font-family:Arial,Helvetica Neue,Helvetica,sans-serif; font-size:48px; text-anchor:middle;\" transform=\"rotate(0, 167.678, 1557.47)\" x=\"167.678\" y=\"1557.47\">0</text>\n",
       "</g>\n",
       "<g clip-path=\"url(#clip1001)\">\n",
       "<text style=\"fill:#000000; fill-opacity:1; font-family:Arial,Helvetica Neue,Helvetica,sans-serif; font-size:48px; text-anchor:middle;\" transform=\"rotate(0, 586.093, 1557.47)\" x=\"586.093\" y=\"1557.47\">10</text>\n",
       "</g>\n",
       "<g clip-path=\"url(#clip1001)\">\n",
       "<text style=\"fill:#000000; fill-opacity:1; font-family:Arial,Helvetica Neue,Helvetica,sans-serif; font-size:48px; text-anchor:middle;\" transform=\"rotate(0, 1004.51, 1557.47)\" x=\"1004.51\" y=\"1557.47\">20</text>\n",
       "</g>\n",
       "<g clip-path=\"url(#clip1001)\">\n",
       "<text style=\"fill:#000000; fill-opacity:1; font-family:Arial,Helvetica Neue,Helvetica,sans-serif; font-size:48px; text-anchor:middle;\" transform=\"rotate(0, 1422.92, 1557.47)\" x=\"1422.92\" y=\"1557.47\">30</text>\n",
       "</g>\n",
       "<g clip-path=\"url(#clip1001)\">\n",
       "<text style=\"fill:#000000; fill-opacity:1; font-family:Arial,Helvetica Neue,Helvetica,sans-serif; font-size:48px; text-anchor:middle;\" transform=\"rotate(0, 1841.34, 1557.47)\" x=\"1841.34\" y=\"1557.47\">40</text>\n",
       "</g>\n",
       "<g clip-path=\"url(#clip1001)\">\n",
       "<text style=\"fill:#000000; fill-opacity:1; font-family:Arial,Helvetica Neue,Helvetica,sans-serif; font-size:48px; text-anchor:middle;\" transform=\"rotate(0, 2259.75, 1557.47)\" x=\"2259.75\" y=\"1557.47\">50</text>\n",
       "</g>\n",
       "<g clip-path=\"url(#clip1001)\">\n",
       "<text style=\"fill:#000000; fill-opacity:1; font-family:Arial,Helvetica Neue,Helvetica,sans-serif; font-size:48px; text-anchor:end;\" transform=\"rotate(0, 124.013, 1479.76)\" x=\"124.013\" y=\"1479.76\">10</text>\n",
       "</g>\n",
       "<g clip-path=\"url(#clip1001)\">\n",
       "<text style=\"fill:#000000; fill-opacity:1; font-family:Arial,Helvetica Neue,Helvetica,sans-serif; font-size:48px; text-anchor:end;\" transform=\"rotate(0, 124.013, 1195.2)\" x=\"124.013\" y=\"1195.2\">15</text>\n",
       "</g>\n",
       "<g clip-path=\"url(#clip1001)\">\n",
       "<text style=\"fill:#000000; fill-opacity:1; font-family:Arial,Helvetica Neue,Helvetica,sans-serif; font-size:48px; text-anchor:end;\" transform=\"rotate(0, 124.013, 910.634)\" x=\"124.013\" y=\"910.634\">20</text>\n",
       "</g>\n",
       "<g clip-path=\"url(#clip1001)\">\n",
       "<text style=\"fill:#000000; fill-opacity:1; font-family:Arial,Helvetica Neue,Helvetica,sans-serif; font-size:48px; text-anchor:end;\" transform=\"rotate(0, 124.013, 626.071)\" x=\"124.013\" y=\"626.071\">25</text>\n",
       "</g>\n",
       "<g clip-path=\"url(#clip1001)\">\n",
       "<text style=\"fill:#000000; fill-opacity:1; font-family:Arial,Helvetica Neue,Helvetica,sans-serif; font-size:48px; text-anchor:end;\" transform=\"rotate(0, 124.013, 341.507)\" x=\"124.013\" y=\"341.507\">30</text>\n",
       "</g>\n",
       "<polyline clip-path=\"url(#clip1003)\" style=\"stroke:#009af9; stroke-width:4; stroke-opacity:1; fill:none\" points=\"\n",
       "  209.52,1462.26 251.361,1395.13 293.203,1330.34 335.044,1264.7 376.886,1195.4 418.727,1119.93 460.569,1038.07 502.41,949.753 544.252,856.826 586.093,762.216 \n",
       "  627.935,669.293 669.776,581.231 711.618,500.533 753.459,428.891 795.301,361.032 837.142,309.397 878.984,265.806 920.825,222.167 962.667,195.85 1004.51,174.874 \n",
       "  1046.35,158.198 1088.19,144.437 1130.03,124.267 1171.87,118.613 1213.72,114.22 1255.56,110.731 1297.4,107.382 1339.24,95.2716 1381.08,96.1361 1422.92,96.8104 \n",
       "  1464.76,97.2611 1506.61,95.4381 1548.45,100.082 1590.29,99.8993 1632.13,99.7507 1673.97,99.6287 1715.81,90.0823 1757.65,92.0412 1799.5,97.9142 1841.34,98.2189 \n",
       "  1883.18,98.447 1925.02,88.4582 1966.86,90.8868 2008.7,101.046 2050.55,100.558 2092.39,100.193 2134.23,99.9214 2176.07,108.252 2217.91,106.259 2259.75,105.369 \n",
       "  \n",
       "  \"/>\n",
       "<polygon clip-path=\"url(#clip1001)\" points=\"\n",
       "1958.43,251.724 2249.26,251.724 2249.26,130.764 1958.43,130.764 \n",
       "  \" fill=\"#ffffff\" fill-rule=\"evenodd\" fill-opacity=\"1\"/>\n",
       "<polyline clip-path=\"url(#clip1001)\" style=\"stroke:#000000; stroke-width:4; stroke-opacity:1; fill:none\" points=\"\n",
       "  1958.43,251.724 2249.26,251.724 2249.26,130.764 1958.43,130.764 1958.43,251.724 \n",
       "  \"/>\n",
       "<polyline clip-path=\"url(#clip1001)\" style=\"stroke:#009af9; stroke-width:4; stroke-opacity:1; fill:none\" points=\"\n",
       "  1982.43,191.244 2126.43,191.244 \n",
       "  \"/>\n",
       "<g clip-path=\"url(#clip1001)\">\n",
       "<text style=\"fill:#000000; fill-opacity:1; font-family:Arial,Helvetica Neue,Helvetica,sans-serif; font-size:48px; text-anchor:start;\" transform=\"rotate(0, 2150.43, 208.744)\" x=\"2150.43\" y=\"208.744\">y1</text>\n",
       "</g>\n",
       "</svg>\n"
      ]
     },
     "execution_count": 12,
     "metadata": {},
     "output_type": "execute_result"
    }
   ],
   "source": [
    "plot(simres2.state_vars[1][1,:])"
   ]
  },
  {
   "cell_type": "code",
   "execution_count": 13,
   "metadata": {},
   "outputs": [
    {
     "data": {
      "image/svg+xml": [
       "<?xml version=\"1.0\" encoding=\"utf-8\"?>\n",
       "<svg xmlns=\"http://www.w3.org/2000/svg\" xmlns:xlink=\"http://www.w3.org/1999/xlink\" width=\"600\" height=\"400\" viewBox=\"0 0 2400 1600\">\n",
       "<defs>\n",
       "  <clipPath id=\"clip1200\">\n",
       "    <rect x=\"0\" y=\"0\" width=\"2000\" height=\"2000\"/>\n",
       "  </clipPath>\n",
       "</defs>\n",
       "<defs>\n",
       "  <clipPath id=\"clip1201\">\n",
       "    <rect x=\"0\" y=\"0\" width=\"2400\" height=\"1600\"/>\n",
       "  </clipPath>\n",
       "</defs>\n",
       "<polygon clip-path=\"url(#clip1201)\" points=\"\n",
       "0,1600 2400,1600 2400,0 0,0 \n",
       "  \" fill=\"#ffffff\" fill-rule=\"evenodd\" fill-opacity=\"1\"/>\n",
       "<defs>\n",
       "  <clipPath id=\"clip1202\">\n",
       "    <rect x=\"480\" y=\"0\" width=\"1681\" height=\"1600\"/>\n",
       "  </clipPath>\n",
       "</defs>\n",
       "<polygon clip-path=\"url(#clip1201)\" points=\"\n",
       "161.394,1503.47 2321.26,1503.47 2321.26,47.2441 161.394,47.2441 \n",
       "  \" fill=\"#ffffff\" fill-rule=\"evenodd\" fill-opacity=\"1\"/>\n",
       "<defs>\n",
       "  <clipPath id=\"clip1203\">\n",
       "    <rect x=\"161\" y=\"47\" width=\"2161\" height=\"1457\"/>\n",
       "  </clipPath>\n",
       "</defs>\n",
       "<polyline clip-path=\"url(#clip1203)\" style=\"stroke:#000000; stroke-width:2; stroke-opacity:0.1; fill:none\" points=\"\n",
       "  180.938,1503.47 180.938,47.2441 \n",
       "  \"/>\n",
       "<polyline clip-path=\"url(#clip1203)\" style=\"stroke:#000000; stroke-width:2; stroke-opacity:0.1; fill:none\" points=\"\n",
       "  596.777,1503.47 596.777,47.2441 \n",
       "  \"/>\n",
       "<polyline clip-path=\"url(#clip1203)\" style=\"stroke:#000000; stroke-width:2; stroke-opacity:0.1; fill:none\" points=\"\n",
       "  1012.62,1503.47 1012.62,47.2441 \n",
       "  \"/>\n",
       "<polyline clip-path=\"url(#clip1203)\" style=\"stroke:#000000; stroke-width:2; stroke-opacity:0.1; fill:none\" points=\"\n",
       "  1428.45,1503.47 1428.45,47.2441 \n",
       "  \"/>\n",
       "<polyline clip-path=\"url(#clip1203)\" style=\"stroke:#000000; stroke-width:2; stroke-opacity:0.1; fill:none\" points=\"\n",
       "  1844.29,1503.47 1844.29,47.2441 \n",
       "  \"/>\n",
       "<polyline clip-path=\"url(#clip1203)\" style=\"stroke:#000000; stroke-width:2; stroke-opacity:0.1; fill:none\" points=\"\n",
       "  2260.13,1503.47 2260.13,47.2441 \n",
       "  \"/>\n",
       "<polyline clip-path=\"url(#clip1203)\" style=\"stroke:#000000; stroke-width:2; stroke-opacity:0.1; fill:none\" points=\"\n",
       "  161.394,1240.91 2321.26,1240.91 \n",
       "  \"/>\n",
       "<polyline clip-path=\"url(#clip1203)\" style=\"stroke:#000000; stroke-width:2; stroke-opacity:0.1; fill:none\" points=\"\n",
       "  161.394,956.324 2321.26,956.324 \n",
       "  \"/>\n",
       "<polyline clip-path=\"url(#clip1203)\" style=\"stroke:#000000; stroke-width:2; stroke-opacity:0.1; fill:none\" points=\"\n",
       "  161.394,671.74 2321.26,671.74 \n",
       "  \"/>\n",
       "<polyline clip-path=\"url(#clip1203)\" style=\"stroke:#000000; stroke-width:2; stroke-opacity:0.1; fill:none\" points=\"\n",
       "  161.394,387.156 2321.26,387.156 \n",
       "  \"/>\n",
       "<polyline clip-path=\"url(#clip1203)\" style=\"stroke:#000000; stroke-width:2; stroke-opacity:0.1; fill:none\" points=\"\n",
       "  161.394,102.573 2321.26,102.573 \n",
       "  \"/>\n",
       "<polyline clip-path=\"url(#clip1201)\" style=\"stroke:#000000; stroke-width:4; stroke-opacity:1; fill:none\" points=\"\n",
       "  161.394,1503.47 2321.26,1503.47 \n",
       "  \"/>\n",
       "<polyline clip-path=\"url(#clip1201)\" style=\"stroke:#000000; stroke-width:4; stroke-opacity:1; fill:none\" points=\"\n",
       "  161.394,1503.47 161.394,47.2441 \n",
       "  \"/>\n",
       "<polyline clip-path=\"url(#clip1201)\" style=\"stroke:#000000; stroke-width:4; stroke-opacity:1; fill:none\" points=\"\n",
       "  180.938,1503.47 180.938,1481.63 \n",
       "  \"/>\n",
       "<polyline clip-path=\"url(#clip1201)\" style=\"stroke:#000000; stroke-width:4; stroke-opacity:1; fill:none\" points=\"\n",
       "  596.777,1503.47 596.777,1481.63 \n",
       "  \"/>\n",
       "<polyline clip-path=\"url(#clip1201)\" style=\"stroke:#000000; stroke-width:4; stroke-opacity:1; fill:none\" points=\"\n",
       "  1012.62,1503.47 1012.62,1481.63 \n",
       "  \"/>\n",
       "<polyline clip-path=\"url(#clip1201)\" style=\"stroke:#000000; stroke-width:4; stroke-opacity:1; fill:none\" points=\"\n",
       "  1428.45,1503.47 1428.45,1481.63 \n",
       "  \"/>\n",
       "<polyline clip-path=\"url(#clip1201)\" style=\"stroke:#000000; stroke-width:4; stroke-opacity:1; fill:none\" points=\"\n",
       "  1844.29,1503.47 1844.29,1481.63 \n",
       "  \"/>\n",
       "<polyline clip-path=\"url(#clip1201)\" style=\"stroke:#000000; stroke-width:4; stroke-opacity:1; fill:none\" points=\"\n",
       "  2260.13,1503.47 2260.13,1481.63 \n",
       "  \"/>\n",
       "<polyline clip-path=\"url(#clip1201)\" style=\"stroke:#000000; stroke-width:4; stroke-opacity:1; fill:none\" points=\"\n",
       "  161.394,1240.91 193.792,1240.91 \n",
       "  \"/>\n",
       "<polyline clip-path=\"url(#clip1201)\" style=\"stroke:#000000; stroke-width:4; stroke-opacity:1; fill:none\" points=\"\n",
       "  161.394,956.324 193.792,956.324 \n",
       "  \"/>\n",
       "<polyline clip-path=\"url(#clip1201)\" style=\"stroke:#000000; stroke-width:4; stroke-opacity:1; fill:none\" points=\"\n",
       "  161.394,671.74 193.792,671.74 \n",
       "  \"/>\n",
       "<polyline clip-path=\"url(#clip1201)\" style=\"stroke:#000000; stroke-width:4; stroke-opacity:1; fill:none\" points=\"\n",
       "  161.394,387.156 193.792,387.156 \n",
       "  \"/>\n",
       "<polyline clip-path=\"url(#clip1201)\" style=\"stroke:#000000; stroke-width:4; stroke-opacity:1; fill:none\" points=\"\n",
       "  161.394,102.573 193.792,102.573 \n",
       "  \"/>\n",
       "<g clip-path=\"url(#clip1201)\">\n",
       "<text style=\"fill:#000000; fill-opacity:1; font-family:Arial,Helvetica Neue,Helvetica,sans-serif; font-size:48px; text-anchor:middle;\" transform=\"rotate(0, 180.938, 1557.47)\" x=\"180.938\" y=\"1557.47\">0</text>\n",
       "</g>\n",
       "<g clip-path=\"url(#clip1201)\">\n",
       "<text style=\"fill:#000000; fill-opacity:1; font-family:Arial,Helvetica Neue,Helvetica,sans-serif; font-size:48px; text-anchor:middle;\" transform=\"rotate(0, 596.777, 1557.47)\" x=\"596.777\" y=\"1557.47\">10</text>\n",
       "</g>\n",
       "<g clip-path=\"url(#clip1201)\">\n",
       "<text style=\"fill:#000000; fill-opacity:1; font-family:Arial,Helvetica Neue,Helvetica,sans-serif; font-size:48px; text-anchor:middle;\" transform=\"rotate(0, 1012.62, 1557.47)\" x=\"1012.62\" y=\"1557.47\">20</text>\n",
       "</g>\n",
       "<g clip-path=\"url(#clip1201)\">\n",
       "<text style=\"fill:#000000; fill-opacity:1; font-family:Arial,Helvetica Neue,Helvetica,sans-serif; font-size:48px; text-anchor:middle;\" transform=\"rotate(0, 1428.45, 1557.47)\" x=\"1428.45\" y=\"1557.47\">30</text>\n",
       "</g>\n",
       "<g clip-path=\"url(#clip1201)\">\n",
       "<text style=\"fill:#000000; fill-opacity:1; font-family:Arial,Helvetica Neue,Helvetica,sans-serif; font-size:48px; text-anchor:middle;\" transform=\"rotate(0, 1844.29, 1557.47)\" x=\"1844.29\" y=\"1557.47\">40</text>\n",
       "</g>\n",
       "<g clip-path=\"url(#clip1201)\">\n",
       "<text style=\"fill:#000000; fill-opacity:1; font-family:Arial,Helvetica Neue,Helvetica,sans-serif; font-size:48px; text-anchor:middle;\" transform=\"rotate(0, 2260.13, 1557.47)\" x=\"2260.13\" y=\"1557.47\">50</text>\n",
       "</g>\n",
       "<g clip-path=\"url(#clip1201)\">\n",
       "<text style=\"fill:#000000; fill-opacity:1; font-family:Arial,Helvetica Neue,Helvetica,sans-serif; font-size:48px; text-anchor:end;\" transform=\"rotate(0, 137.394, 1258.41)\" x=\"137.394\" y=\"1258.41\">6.0</text>\n",
       "</g>\n",
       "<g clip-path=\"url(#clip1201)\">\n",
       "<text style=\"fill:#000000; fill-opacity:1; font-family:Arial,Helvetica Neue,Helvetica,sans-serif; font-size:48px; text-anchor:end;\" transform=\"rotate(0, 137.394, 973.824)\" x=\"137.394\" y=\"973.824\">6.5</text>\n",
       "</g>\n",
       "<g clip-path=\"url(#clip1201)\">\n",
       "<text style=\"fill:#000000; fill-opacity:1; font-family:Arial,Helvetica Neue,Helvetica,sans-serif; font-size:48px; text-anchor:end;\" transform=\"rotate(0, 137.394, 689.24)\" x=\"137.394\" y=\"689.24\">7.0</text>\n",
       "</g>\n",
       "<g clip-path=\"url(#clip1201)\">\n",
       "<text style=\"fill:#000000; fill-opacity:1; font-family:Arial,Helvetica Neue,Helvetica,sans-serif; font-size:48px; text-anchor:end;\" transform=\"rotate(0, 137.394, 404.656)\" x=\"137.394\" y=\"404.656\">7.5</text>\n",
       "</g>\n",
       "<g clip-path=\"url(#clip1201)\">\n",
       "<text style=\"fill:#000000; fill-opacity:1; font-family:Arial,Helvetica Neue,Helvetica,sans-serif; font-size:48px; text-anchor:end;\" transform=\"rotate(0, 137.394, 120.073)\" x=\"137.394\" y=\"120.073\">8.0</text>\n",
       "</g>\n",
       "<polyline clip-path=\"url(#clip1203)\" style=\"stroke:#009af9; stroke-width:4; stroke-opacity:1; fill:none\" points=\"\n",
       "  222.522,1462.26 264.106,1355.25 305.69,1293.18 347.274,1266.91 388.858,1270.39 430.442,1279.15 472.025,1292 513.609,1290.82 555.193,1266 596.777,1214.18 \n",
       "  638.361,1137.65 679.945,1042.78 721.529,936.751 763.113,888.149 804.696,718.02 846.28,633.015 887.864,630.564 929.448,455.189 971.032,400.85 1012.62,357.315 \n",
       "  1054.2,327.863 1095.78,391.782 1137.37,246.488 1178.95,233.862 1220.54,224.83 1262.12,223.438 1303.7,311.061 1345.29,181.378 1386.87,183.273 1428.45,185.504 \n",
       "  1470.04,208.239 1511.62,143.58 1553.21,191.815 1594.79,191.476 1636.37,191.211 1677.96,285.463 1719.54,170.48 1761.13,131.317 1802.71,186.955 1844.29,187.72 \n",
       "  1885.88,289.895 1927.46,165.799 1969.04,88.4582 2010.63,194.872 2052.21,193.636 2093.8,192.699 2135.38,106.683 2176.96,209.876 2218.55,198.851 2260.13,103.768 \n",
       "  \n",
       "  \"/>\n",
       "<polygon clip-path=\"url(#clip1201)\" points=\"\n",
       "1958.43,251.724 2249.26,251.724 2249.26,130.764 1958.43,130.764 \n",
       "  \" fill=\"#ffffff\" fill-rule=\"evenodd\" fill-opacity=\"1\"/>\n",
       "<polyline clip-path=\"url(#clip1201)\" style=\"stroke:#000000; stroke-width:4; stroke-opacity:1; fill:none\" points=\"\n",
       "  1958.43,251.724 2249.26,251.724 2249.26,130.764 1958.43,130.764 1958.43,251.724 \n",
       "  \"/>\n",
       "<polyline clip-path=\"url(#clip1201)\" style=\"stroke:#009af9; stroke-width:4; stroke-opacity:1; fill:none\" points=\"\n",
       "  1982.43,191.244 2126.43,191.244 \n",
       "  \"/>\n",
       "<g clip-path=\"url(#clip1201)\">\n",
       "<text style=\"fill:#000000; fill-opacity:1; font-family:Arial,Helvetica Neue,Helvetica,sans-serif; font-size:48px; text-anchor:start;\" transform=\"rotate(0, 2150.43, 208.744)\" x=\"2150.43\" y=\"208.744\">y1</text>\n",
       "</g>\n",
       "</svg>\n"
      ]
     },
     "execution_count": 13,
     "metadata": {},
     "output_type": "execute_result"
    }
   ],
   "source": [
    "plot(simres2.choice_vars[1][1,:])"
   ]
  },
  {
   "cell_type": "markdown",
   "metadata": {},
   "source": [
    "## Problem 4"
   ]
  },
  {
   "cell_type": "code",
   "execution_count": 14,
   "metadata": {},
   "outputs": [
    {
     "data": {
      "text/plain": [
       "getproblem4 (generic function with 1 method)"
      ]
     },
     "execution_count": 14,
     "metadata": {},
     "output_type": "execute_result"
    }
   ],
   "source": [
    "include(\"problem4.jl\")"
   ]
  },
  {
   "cell_type": "code",
   "execution_count": 15,
   "metadata": {},
   "outputs": [
    {
     "name": "stdout",
     "output_type": "stream",
     "text": [
      "p.uncertain_nodes = Array{Float64}(0,0)\n",
      "uncertain_nodes = [-0.0277685, -0.0187767, -0.0109647, -0.00361183, 0.00361183, 0.0109647, 0.0187767, 0.0277685]\n",
      "size(p.uncertain_nodes, 1) = 0\n"
     ]
    },
    {
     "data": {
      "text/plain": [
       "Dynamic programming problem with\n",
       "  2 state variables\n",
       "    State 1: 10 nodes over [0.7, 1.3]\n",
       "    State 2: 10 nodes over [0.8853, 1.1295]\n",
       "  3 choice variables\n",
       "    Choice 1: bounds [0.0, 1.0e11] with initial value 0.1\n",
       "    Choice 2: bounds [0.0, 1.0e11] with initial value 0.1\n",
       "    Choice 3: bounds [0.0, 1.0e11] with initial value 0.1\n",
       "  1 constraints\n",
       "    Constraint 1: bounds [0.0, Inf] \n",
       "  1 uncertain parameters\n"
      ]
     },
     "execution_count": 15,
     "metadata": {},
     "output_type": "execute_result"
    }
   ],
   "source": [
    "p4 = getproblem4()"
   ]
  },
  {
   "cell_type": "code",
   "execution_count": 16,
   "metadata": {},
   "outputs": [
    {
     "name": "stdout",
     "output_type": "stream",
     "text": [
      "Function iteration converged after 33 iterations with max. coefficient difference of 0.0008998417886481036\n"
     ]
    },
    {
     "data": {
      "text/plain": [
       "Dynamic programming solution"
      ]
     },
     "execution_count": 16,
     "metadata": {},
     "output_type": "execute_result"
    }
   ],
   "source": [
    "res4 = solve(p4)"
   ]
  },
  {
   "cell_type": "code",
   "execution_count": 17,
   "metadata": {},
   "outputs": [],
   "source": [
    "# simres4 = simulate(res4, 50);"
   ]
  }
 ],
 "metadata": {
  "kernelspec": {
   "display_name": "Julia 1.1.0",
   "language": "julia",
   "name": "julia-1.1"
  },
  "language_info": {
   "file_extension": ".jl",
   "mimetype": "application/julia",
   "name": "julia",
   "version": "1.1.0"
  }
 },
 "nbformat": 4,
 "nbformat_minor": 2
}
